{
 "cells": [
  {
   "cell_type": "markdown",
   "metadata": {},
   "source": [
    "### **Import Dependencies**"
   ]
  },
  {
   "cell_type": "code",
   "execution_count": 1,
   "metadata": {},
   "outputs": [],
   "source": [
    "import os\n",
    "from getpass import getpass\n",
    "from IPython.display import display, Markdown\n",
    "from astrapy.info import CollectionVectorServiceOptions\n",
    "from langchain_astradb import AstraDBVectorStore\n",
    "from langchain_community.document_loaders import CSVLoader\n",
    "from langchain_core.documents import Document\n",
    "from langchain_core.output_parsers import StrOutputParser\n",
    "from langchain_core.prompts import ChatPromptTemplate\n",
    "from langchain_core.runnables import RunnablePassthrough\n",
    "from langchain_openai import ChatOpenAI, OpenAIEmbeddings\n",
    "from langchain_text_splitters import RecursiveCharacterTextSplitter"
   ]
  },
  {
   "cell_type": "markdown",
   "metadata": {},
   "source": [
    "### **Initialize the VectorStore**"
   ]
  },
  {
   "cell_type": "code",
   "execution_count": 2,
   "metadata": {},
   "outputs": [],
   "source": [
    "ASTRA_DB_API_ENDPOINT = \"Your AstraDB API Endpoint\"\n",
    "ASTRA_DB_APPLICATION_TOKEN = \"Your AstraDB Application Token\"\n",
    "\n",
    "desired_namespace = input(\"(optional) Namespace = \")\n",
    "if desired_namespace:\n",
    "    ASTRA_DB_KEYSPACE = desired_namespace\n",
    "else:\n",
    "    ASTRA_DB_KEYSPACE = None"
   ]
  },
  {
   "cell_type": "code",
   "execution_count": 3,
   "metadata": {},
   "outputs": [],
   "source": [
    "openai_api_key = \"Your Openai API Key\"\n",
    "embeddings = OpenAIEmbeddings(openai_api_key=openai_api_key)"
   ]
  },
  {
   "cell_type": "code",
   "execution_count": 4,
   "metadata": {},
   "outputs": [],
   "source": [
    "vstore = AstraDBVectorStore(\n",
    "    embedding=embeddings,\n",
    "    collection_name=\"your collection name\",\n",
    "    api_endpoint=ASTRA_DB_API_ENDPOINT,\n",
    "    token=ASTRA_DB_APPLICATION_TOKEN,\n",
    "    namespace=ASTRA_DB_KEYSPACE,\n",
    ")"
   ]
  },
  {
   "cell_type": "markdown",
   "metadata": {},
   "source": [
    "### **Load a dataset**"
   ]
  },
  {
   "cell_type": "code",
   "execution_count": 5,
   "metadata": {},
   "outputs": [
    {
     "name": "stdout",
     "output_type": "stream",
     "text": [
      "Number of records loaded: 5\n"
     ]
    }
   ],
   "source": [
    "# Load CSV Data\n",
    "file_path = 'path to data'\n",
    "def load_data(file_path):\n",
    "    loader = CSVLoader(file_path=file_path)\n",
    "    data = loader.load()\n",
    "    return data\n",
    "\n",
    "data = load_data(file_path=file_path)\n",
    "print(f\"Number of records loaded: {len(data)}\")"
   ]
  },
  {
   "cell_type": "code",
   "execution_count": 6,
   "metadata": {},
   "outputs": [
    {
     "name": "stdout",
     "output_type": "stream",
     "text": [
      "page_content='Country: Saudi Arabia\n",
      "City: Riyadh\n",
      "Event_Name: Unfolding the Embassy\n",
      "Description: ‘‘Unfolding the Embassy ‘‘presents a fictitious time-space, a rediscovery of the human condition in the very present of 2024, through the perceptual distance of the dauntingly near future.\n",
      "The date is 2040, and we are situated in a Space-X satellite orbiting around a meta-earth, decomposed of its state borders due to environmental failure, and regulated by cyborgs wary of human intervention.\n",
      "‘‘Unfolding the Embassy ‘‘brings together works of installation, video, photography, and print media that address the state of our globe in relation to the economy, the Anthropocene, and artificial intelligence.\n",
      "In exploring the works of art and their conversations with one another, exhibition visitors are invited to speculate on the role of fiction in constructing the systems that hold our societies together.\n",
      "Here, decontextualized geographic borders, language symbols, and national emblems trigger audiences to reconsider that which they hold as truth and factual.\n",
      "By arriving at the depth of our fictions, do we find a landscape of the arbitrary?\n",
      "Category: Culture & History\n",
      "Start_Date: 16-May-24\n",
      "End_Date: 01-Sep-24\n",
      "Open_Days: Daily\n",
      "Open_Hours: 10:00 AM - 10:00 PM\n",
      "Price_Starting_From: 20.00 SAR \n",
      "Per Person\n",
      "Direct_Booking: Yes\n",
      "Links: https://dc.moc.gov.sa/event-tickets/340/unfolding-the-embassy/ticket-office?id_event_show=3234\n",
      "Ages: All\n",
      "Tags: Culture & History,\n",
      "Families,\n",
      "Friends\n",
      "Terms_and_Conditions: •The ticket holder is solely responsible for checking the date, time, location\n",
      "•Reselling the ticket is strictly prohibited.\n",
      "• Acknowledgment and adherence to the code of conduct.\n",
      "• The ticket holder, by attending the event, agrees on photographs, videos, and recorded audio that may be published on the internet.\n",
      "• The organizing authority shall not be held responsible for physical injuries, illnesses, death, loss, or damage to possessions of any visitor (including the ticket holder) due to reasons related to or resulting from the event.\n",
      "• The organizing authority has the right to expel anyone whose behavior is considered by the organizing authority to be a violation.\n",
      "• Bringing outside food and beverages into the event is prohibited.\n",
      "• Animals are not allowed.\n",
      "• Smoking is prohibited in all areas of the event and its facilities.\n",
      "• No entry for children below ages of 12. \n",
      "• Ticket holders receive a 15% on all Fenaa Alawwal café and restaurant purchases- show your ticket at point of sale to get your discount. Discounts only apply ones and in accordance with the date of your ticket.\n",
      "Location: Fenaa Al Awwal\n",
      "Guide_Manual: https://drive.google.com/file/d/1a9OdFJcpvQamaPsW9AW1dHh3f1Fz7p0N/view?usp=sharing' metadata={'source': './data/Riyadh_Events.csv', 'row': 0}\n"
     ]
    }
   ],
   "source": [
    "# Inspect the first entry to understand its structure\n",
    "print(data[0])"
   ]
  },
  {
   "cell_type": "markdown",
   "metadata": {},
   "source": [
    "### **Insert the Data into DB**"
   ]
  },
  {
   "cell_type": "code",
   "execution_count": 7,
   "metadata": {},
   "outputs": [],
   "source": [
    "# Function to create metadata automatically\n",
    "def create_metadata(doc):\n",
    "    metadata = {}\n",
    "    for key, value in doc.metadata.items():\n",
    "        metadata[key.lower()] = value\n",
    "    return metadata"
   ]
  },
  {
   "cell_type": "code",
   "execution_count": 8,
   "metadata": {},
   "outputs": [],
   "source": [
    "# Prepare and insert documents directly\n",
    "docs = []\n",
    "for doc in data:\n",
    "    metadata = create_metadata(doc)\n",
    "    page_content = doc.page_content\n",
    "    new_doc = Document(page_content=page_content, metadata=metadata)\n",
    "    docs.append(new_doc)\n"
   ]
  },
  {
   "cell_type": "code",
   "execution_count": 9,
   "metadata": {},
   "outputs": [
    {
     "name": "stdout",
     "output_type": "stream",
     "text": [
      "\n",
      "Inserted 5 documents.\n"
     ]
    }
   ],
   "source": [
    "# Insert documents into the vector store\n",
    "inserted_ids = vstore.add_documents(docs)\n",
    "print(f\"\\nInserted {len(inserted_ids)} documents.\")"
   ]
  },
  {
   "cell_type": "markdown",
   "metadata": {},
   "source": [
    "### **Run Searches**"
   ]
  },
  {
   "cell_type": "code",
   "execution_count": 10,
   "metadata": {},
   "outputs": [
    {
     "name": "stdout",
     "output_type": "stream",
     "text": [
      "* [Relevance Score=0.915334]\n",
      "Country: Saudi Arabia\n",
      "City: Riyadh\n",
      "Event_Name: AFT_R\n",
      "Description: Get ready for AFT_r, The Esports World Cup After show in Riyadh. Enjoy international, regional, and local artists every week after the Esports World Cup competitions. Get your tickets and join the fun.\n",
      "Category: Concerts & Shows\n",
      "Start_Date: 04-Jul-24\n",
      "End_Date: 15-Aug-24\n",
      "Open_Days: Daily\n",
      "Open_Hours: 8:00 PM - 2:30 AM\n",
      "Price_Starting_From: 149 SAR\n",
      "Per Person\n",
      "Direct_Booking: Yes\n",
      "Links: https://webook.com/en/events/after-is-here-mdlbeast-tickets/book\n",
      "Ages: All\n",
      "Tags: Concerts & Shows,\n",
      "Families,\n",
      "Friends\n",
      "Terms_and_Conditions: Signup For more information.\n",
      "Location: QJC4+XH4 Mohamed Abdo Theater, Hittin, Riyadh 13516, Saudi Arabia\n",
      "Guide_Manual: Visit website for more information [{'source': './data/Riyadh_Events.csv', 'row': 2}]\n"
     ]
    }
   ],
   "source": [
    "query = \"Most expensive event in Riyadh\"\n",
    "results = vstore.similarity_search_with_relevance_scores(query, k=1)\n",
    "for res, score in results:\n",
    "    print(f\"* [Relevance Score={score:3f}]\\n{res.page_content} [{res.metadata}]\")"
   ]
  },
  {
   "cell_type": "markdown",
   "metadata": {},
   "source": [
    "### **RAG Chain**"
   ]
  },
  {
   "cell_type": "code",
   "execution_count": 11,
   "metadata": {},
   "outputs": [],
   "source": [
    "retriever = vstore.as_retriever(search_kwargs={\"k\":3})\n",
    "\n",
    "template = \"\"\"\n",
    "    You are an intelligent chatbot that answers the users queries \\\n",
    "    based on the context from the data from the database. \\\n",
    "    Use the provided context as the basis for your answers \\\n",
    "    and do not make up new reasoning paths - just mix-and-match what you are given.\n",
    "    Your answers must be concise and to the point, \\\n",
    "    and refrain from answering about other topics.\n",
    "\n",
    "    CONTEXT:\n",
    "    {context}\n",
    "\n",
    "    QUESTION: {question}\n",
    "\n",
    "    YOUR ANSWER: \n",
    "\"\"\"\n",
    "prompt = ChatPromptTemplate.from_template(template)\n"
   ]
  },
  {
   "cell_type": "code",
   "execution_count": 12,
   "metadata": {},
   "outputs": [],
   "source": [
    "# Initialize the LLM\n",
    "llm = ChatOpenAI(\n",
    "    api_key=openai_api_key,\n",
    "    model='gpt-4-turbo',\n",
    "    temperature=0.0,\n",
    ")"
   ]
  },
  {
   "cell_type": "markdown",
   "metadata": {},
   "source": [
    "**Chain**"
   ]
  },
  {
   "cell_type": "code",
   "execution_count": 13,
   "metadata": {},
   "outputs": [],
   "source": [
    "chain = (\n",
    "    {\"context\": retriever, \"question\": RunnablePassthrough()}\n",
    "    | prompt\n",
    "    | llm\n",
    "    | StrOutputParser()\n",
    ")"
   ]
  },
  {
   "cell_type": "markdown",
   "metadata": {},
   "source": [
    "### **Testing**"
   ]
  },
  {
   "cell_type": "code",
   "execution_count": 14,
   "metadata": {},
   "outputs": [
    {
     "data": {
      "text/plain": [
       "'The AFT_r event starts on the 4th of July, 2024.'"
      ]
     },
     "execution_count": 14,
     "metadata": {},
     "output_type": "execute_result"
    }
   ],
   "source": [
    "question = \"When does the AFT_r event starts?\"\n",
    "chain.invoke(question)"
   ]
  },
  {
   "cell_type": "code",
   "execution_count": 15,
   "metadata": {},
   "outputs": [
    {
     "data": {
      "text/markdown": [
       "The best time to visit Riyadh for specific events would be during the Otaiqah Dates Season 2024, which runs from August 1, 2024, to November 3, 2024, or during the AFT_R event, which is from July 4, 2024, to August 15, 2024. These events offer unique experiences such as the largest dates season and an exciting Esports World Cup aftershow with concerts and shows."
      ],
      "text/plain": [
       "<IPython.core.display.Markdown object>"
      ]
     },
     "metadata": {},
     "output_type": "display_data"
    }
   ],
   "source": [
    "question = input(\"Hello, How may I help you: \")\n",
    "res = chain.invoke(question)\n",
    "display(Markdown(res))"
   ]
  },
  {
   "cell_type": "code",
   "execution_count": 16,
   "metadata": {},
   "outputs": [
    {
     "data": {
      "text/markdown": [
       "| Event Name            | Category          | Description                                                                                                                                                                                                                                                                                                                                                                                                                                                                 | Start Date | End Date   | Location                                         |\n",
       "|-----------------------|-------------------|-----------------------------------------------------------------------------------------------------------------------------------------------------------------------------------------------------------------------------------------------------------------------------------------------------------------------------------------------------------------------------------------------------------------------------------------------------------------------------|------------|------------|--------------------------------------------------|\n",
       "| Unfolding the Embassy | Culture & History | Presents a fictitious time-space set in 2040, exploring human condition through art installations, video, photography, and print media. It addresses global issues like the economy, the Anthropocene, and artificial intelligence, inviting visitors to speculate on the role of fiction in societal systems.                                                                                                                                                                   | 16-May-24  | 01-Sep-24  | Fenaa Al Awwal                                  |\n",
       "| AFT_R                 | Concerts & Shows  | The Esports World Cup Aftershow featuring international, regional, and local artists performing weekly. This event combines the excitement of esports with live music performances.                                                                                                                                                                                                                                                                                           | 04-Jul-24  | 15-Aug-24  | Mohamed Abdo Theater, Hittin, Riyadh 13516, Saudi Arabia |"
      ],
      "text/plain": [
       "<IPython.core.display.Markdown object>"
      ]
     },
     "metadata": {},
     "output_type": "display_data"
    }
   ],
   "source": [
    "question = \"Give me a summary of each event in Riyadh in a tabular format\"\n",
    "res = chain.invoke(question)\n",
    "display(Markdown(res))"
   ]
  },
  {
   "cell_type": "code",
   "execution_count": 19,
   "metadata": {},
   "outputs": [
    {
     "data": {
      "text/markdown": [
       "Hello! How can I assist you today?"
      ],
      "text/plain": [
       "<IPython.core.display.Markdown object>"
      ]
     },
     "metadata": {},
     "output_type": "display_data"
    }
   ],
   "source": [
    "question = input(\"Hello, How may I help you: \")\n",
    "res = chain.invoke(question)\n",
    "display(Markdown(res))"
   ]
  },
  {
   "cell_type": "code",
   "execution_count": null,
   "metadata": {},
   "outputs": [],
   "source": []
  }
 ],
 "metadata": {
  "kernelspec": {
   "display_name": "Python 3",
   "language": "python",
   "name": "python3"
  },
  "language_info": {
   "codemirror_mode": {
    "name": "ipython",
    "version": 3
   },
   "file_extension": ".py",
   "mimetype": "text/x-python",
   "name": "python",
   "nbconvert_exporter": "python",
   "pygments_lexer": "ipython3",
   "version": "3.12.4"
  }
 },
 "nbformat": 4,
 "nbformat_minor": 2
}
